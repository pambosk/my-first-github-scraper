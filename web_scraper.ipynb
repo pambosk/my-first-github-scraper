{
 "cells": [
  {
   "cell_type": "code",
   "execution_count": 2,
   "metadata": {},
   "outputs": [],
   "source": [
    "import requests\n",
    "import bs4\n",
    "import csv\n",
    "\n",
    "URL = 'http://www.dllr.state.md.us/employment/warn.shtml'\n",
    "\n",
    "warn_page = requests.get(URL)\n",
    "\n",
    "soup = bs4.BeautifulSoup(warn_page.text, 'html.parser')\n",
    "\n",
    "table = soup.find('table')\n",
    "\n",
    "rows = table.find_all('tr')\n"
   ]
  },
  {
   "cell_type": "code",
   "execution_count": 3,
   "metadata": {},
   "outputs": [],
   "source": [
    "HEADERS = [\n",
    "    'warn_date',\n",
    "    'naics_code',\n",
    "    'biz',\n",
    "    'address',\n",
    "    'wia_code',\n",
    "    'total_employees',\n",
    "    'effective_date',\n",
    "    'type_code'\n",
    "]\n",
    "\n",
    "with open('warn-data.csv', 'w', newline='') as outfile:\n",
    "    writer = csv.writer(outfile)\n",
    "    writer.writerow(HEADERS)\n",
    "    for row in rows[1:]:\n",
    "        cells = row.find_all('td')\n",
    "        values = [c.text.strip() for c in cells]\n",
    "        writer.writerow(values)\n",
    "\n"
   ]
  },
  {
   "cell_type": "code",
   "execution_count": null,
   "metadata": {},
   "outputs": [],
   "source": []
  }
 ],
 "metadata": {
  "kernelspec": {
   "display_name": "Python 3",
   "language": "python",
   "name": "python3"
  },
  "language_info": {
   "codemirror_mode": {
    "name": "ipython",
    "version": 3
   },
   "file_extension": ".py",
   "mimetype": "text/x-python",
   "name": "python",
   "nbconvert_exporter": "python",
   "pygments_lexer": "ipython3",
   "version": "3.9.0"
  }
 },
 "nbformat": 4,
 "nbformat_minor": 4
}
